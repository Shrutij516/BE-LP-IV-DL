{
 "cells": [
  {
   "cell_type": "code",
   "execution_count": 3,
   "id": "ab1c7c4e",
   "metadata": {},
   "outputs": [],
   "source": [
    "import numpy as np\n",
    "import matplotlib.pyplot as plt\n",
    "import tensorflow as tf\n",
    "from tensorflow.keras.preprocessing.image import ImageDataGenerator"
   ]
  },
  {
   "cell_type": "code",
   "execution_count": 4,
   "id": "683fa322",
   "metadata": {},
   "outputs": [],
   "source": [
    "path = r\"C:\\Users\\asus\\OneDrive\\Desktop\\SEM VII\\3. Deep learning\\LP-IV-datasets\\Object Detection(Ass6)\\caltech-101-img\"\n",
    "\n",
    "img_gen = ImageDataGenerator(rescale=1./255)"
   ]
  },
  {
   "cell_type": "code",
   "execution_count": 7,
   "id": "8d75a6b6",
   "metadata": {},
   "outputs": [
    {
     "name": "stdout",
     "output_type": "stream",
     "text": [
      "Found 9144 images belonging to 102 classes.\n"
     ]
    }
   ],
   "source": [
    "ds_gen = img_gen.flow_from_directory(path,\n",
    "                                     class_mode='categorical',\n",
    "                                     target_size=(64,64),\n",
    "                                     batch_size=2000,\n",
    "                                     )"
   ]
  },
  {
   "cell_type": "code",
   "execution_count": 8,
   "id": "04dc2450",
   "metadata": {},
   "outputs": [
    {
     "name": "stdout",
     "output_type": "stream",
     "text": [
      "2000\n",
      "2000\n"
     ]
    }
   ],
   "source": [
    "x_train, y_train = ds_gen[0]\n",
    "x_test, y_test = ds_gen[1]\n",
    "\n",
    "print(len(x_train))\n",
    "print(len(x_test))"
   ]
  },
  {
   "cell_type": "code",
   "execution_count": 10,
   "id": "c8ac0021",
   "metadata": {},
   "outputs": [],
   "source": [
    "from tensorflow.keras.applications import VGG16\n",
    "\n",
    "\n",
    "base_model = VGG16(weights='imagenet', include_top=False, input_shape=(64,64,3))"
   ]
  },
  {
   "cell_type": "code",
   "execution_count": 11,
   "id": "5a0b3c6d",
   "metadata": {},
   "outputs": [],
   "source": [
    "for layer in base_model.layers:\n",
    "    layer.trainable = False"
   ]
  },
  {
   "cell_type": "code",
   "execution_count": 14,
   "id": "92acad16",
   "metadata": {},
   "outputs": [
    {
     "name": "stdout",
     "output_type": "stream",
     "text": [
      "Epoch 1/2\n",
      "4/4 [==============================] - 105s 29s/step - loss: 4.4885 - accuracy: 0.0925 - val_loss: 4.1877 - val_accuracy: 0.1470\n",
      "Epoch 2/2\n",
      "4/4 [==============================] - 99s 29s/step - loss: 4.0297 - accuracy: 0.1515 - val_loss: 3.9385 - val_accuracy: 0.1890\n"
     ]
    },
    {
     "data": {
      "text/plain": [
       "<keras.callbacks.History at 0x1d5c8319b80>"
      ]
     },
     "execution_count": 14,
     "metadata": {},
     "output_type": "execute_result"
    }
   ],
   "source": [
    "from tensorflow.keras.layers import Dense, Flatten\n",
    "from tensorflow.keras.models import Model\n",
    "\n",
    "x = Flatten()(base_model.output)\n",
    "x = Dense(64, activation='relu')(x)\n",
    "pred = Dense(102, activation='softmax')(x)\n",
    "\n",
    "mod = Model(inputs=base_model.input, outputs=pred)\n",
    "mod.compile(loss='categorical_crossentropy',optimizer='adam', metrics=['accuracy'])\n",
    "mod.fit(x_train, y_train, validation_data=(x_test, y_test), batch_size=512, epochs=2)"
   ]
  },
  {
   "cell_type": "code",
   "execution_count": 15,
   "id": "c21ab9bf",
   "metadata": {},
   "outputs": [
    {
     "name": "stdout",
     "output_type": "stream",
     "text": [
      "Epoch 1/2\n",
      "32/32 [==============================] - 114s 3s/step - loss: 3.1392 - accuracy: 0.3530 - val_loss: 2.3608 - val_accuracy: 0.4850\n",
      "Epoch 2/2\n",
      "32/32 [==============================] - 105s 3s/step - loss: 1.8356 - accuracy: 0.5615 - val_loss: 1.8941 - val_accuracy: 0.5685\n"
     ]
    },
    {
     "data": {
      "text/plain": [
       "<keras.callbacks.History at 0x1d5c99b1e20>"
      ]
     },
     "execution_count": 15,
     "metadata": {},
     "output_type": "execute_result"
    }
   ],
   "source": [
    "from tensorflow.keras.optimizers import Adam\n",
    "\n",
    "base_model = VGG16(weights='imagenet', include_top=False, input_shape=(64,64,3))\n",
    "\n",
    "for layer in base_model.layers:\n",
    "    layer.trainable = False\n",
    "    \n",
    "for layer in base_model.layers[len(base_model.layers)-2:]:\n",
    "    layer.trainable = True\n",
    "    \n",
    "x = Flatten()(base_model.output)\n",
    "x = Dense(512, activation='relu')(x)\n",
    "x = tf.keras.layers.Dropout(0.3)(x)\n",
    "predi = Dense(102, activation='softmax')(x)\n",
    "\n",
    "mod = Model(inputs=base_model.inputs,outputs = predi)\n",
    "mod.compile(loss='categorical_crossentropy',optimizer = Adam(learning_rate=0.001), metrics=['accuracy'])\n",
    "mod.fit(x_train, y_train, validation_data=(x_test,y_test),batch_size=64,epochs=2)"
   ]
  },
  {
   "cell_type": "code",
   "execution_count": 16,
   "id": "4d318e06",
   "metadata": {},
   "outputs": [
    {
     "name": "stdout",
     "output_type": "stream",
     "text": [
      "63/63 [==============================] - 52s 816ms/step\n"
     ]
    }
   ],
   "source": [
    "import matplotlib.pyplot as plt\n",
    "y_pred = mod.predict(x_test)"
   ]
  },
  {
   "cell_type": "code",
   "execution_count": 17,
   "id": "1a2b6f36",
   "metadata": {},
   "outputs": [],
   "source": [
    "labels = list(ds_gen.class_indices.keys())"
   ]
  },
  {
   "cell_type": "code",
   "execution_count": 18,
   "id": "512f40d4",
   "metadata": {},
   "outputs": [
    {
     "name": "stdout",
     "output_type": "stream",
     "text": [
      "predicted: Motorbikes\n",
      "actual: Motorbikes\n"
     ]
    },
    {
     "data": {
      "image/png": "[encoded data removed]",
      "text/plain": [
       "<Figure size 640x480 with 1 Axes>"
      ]
     },
     "metadata": {},
     "output_type": "display_data"
    }
   ],
   "source": [
    "n = 888\n",
    "plt.imshow(x_test[n])\n",
    "print(\"predicted:\", labels[np.argmax(y_pred[n])])\n",
    "print(\"actual:\", labels[np.argmax(y_test[n])])"
   ]
  }
 ],
 "metadata": {
  "kernelspec": {
   "display_name": "Python 3 (ipykernel)",
   "language": "python",
   "name": "python3"
  },
  "language_info": {
   "codemirror_mode": {
    "name": "ipython",
    "version": 3
   },
   "file_extension": ".py",
   "mimetype": "text/x-python",
   "name": "python",
   "nbconvert_exporter": "python",
   "pygments_lexer": "ipython3",
   "version": "3.9.13"
  }
 },
 "nbformat": 4,
 "nbformat_minor": 5
}
