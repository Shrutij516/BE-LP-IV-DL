{
 "cells": [
  {
   "cell_type": "code",
   "execution_count": 1,
   "id": "7b36e5ef",
   "metadata": {},
   "outputs": [],
   "source": [
    "import numpy as np\n",
    "import matplotlib.pyplot as plt\n",
    "import tensorflow as tf"
   ]
  },
  {
   "cell_type": "code",
   "execution_count": 2,
   "id": "f2520477",
   "metadata": {},
   "outputs": [],
   "source": [
    "from tensorflow.keras import datasets\n",
    "\n",
    "((x_train, y_train), (x_test,y_test)) = datasets.mnist.load_data()\n",
    "x_train = x_train.reshape(x_train.shape[0], 28*28*1)\n",
    "x_test = x_test.reshape(x_test.shape[0],28*28*1)\n",
    "x_train = x_train.astype(\"float32\")/255\n",
    "x_test = x_test.astype(\"float32\")/255"
   ]
  },
  {
   "cell_type": "code",
   "execution_count": 5,
   "id": "6f533454",
   "metadata": {},
   "outputs": [],
   "source": [
    "from sklearn.preprocessing import LabelBinarizer\n",
    "lb = LabelBinarizer()\n",
    "y_train = lb.fit_transform(y_train)\n",
    "y_test = lb.transform(y_test)"
   ]
  },
  {
   "cell_type": "code",
   "execution_count": 6,
   "id": "726bdedc",
   "metadata": {},
   "outputs": [],
   "source": [
    "from tensorflow.keras.models import Sequential\n",
    "from tensorflow.keras.layers import Dense\n",
    "\n",
    "mod = Sequential()\n",
    "mod.add(Dense(128, input_shape=(784,), activation='sigmoid'))\n",
    "mod.add(Dense(64, activation='sigmoid'))\n",
    "mod.add(Dense(10, activation='softmax'))"
   ]
  },
  {
   "cell_type": "code",
   "execution_count": 14,
   "id": "33de2489",
   "metadata": {},
   "outputs": [
    {
     "name": "stdout",
     "output_type": "stream",
     "text": [
      "Epoch 1/11\n",
      "118/118 [==============================] - 4s 19ms/step - loss: 0.1197 - accuracy: 0.9655 - val_loss: 0.1251 - val_accuracy: 0.9623\n",
      "Epoch 2/11\n",
      "118/118 [==============================] - 2s 16ms/step - loss: 0.1075 - accuracy: 0.9689 - val_loss: 0.1162 - val_accuracy: 0.9650\n",
      "Epoch 3/11\n",
      "118/118 [==============================] - 2s 16ms/step - loss: 0.0977 - accuracy: 0.9718 - val_loss: 0.1107 - val_accuracy: 0.9659\n",
      "Epoch 4/11\n",
      "118/118 [==============================] - 2s 16ms/step - loss: 0.0894 - accuracy: 0.9748 - val_loss: 0.1041 - val_accuracy: 0.9683\n",
      "Epoch 5/11\n",
      "118/118 [==============================] - 2s 16ms/step - loss: 0.0817 - accuracy: 0.9771 - val_loss: 0.0990 - val_accuracy: 0.9692\n",
      "Epoch 6/11\n",
      "118/118 [==============================] - 2s 16ms/step - loss: 0.0747 - accuracy: 0.9793 - val_loss: 0.0934 - val_accuracy: 0.9705\n",
      "Epoch 7/11\n",
      "118/118 [==============================] - 2s 16ms/step - loss: 0.0692 - accuracy: 0.9807 - val_loss: 0.0909 - val_accuracy: 0.9722\n",
      "Epoch 8/11\n",
      "118/118 [==============================] - 2s 15ms/step - loss: 0.0634 - accuracy: 0.9823 - val_loss: 0.0892 - val_accuracy: 0.9729\n",
      "Epoch 9/11\n",
      "118/118 [==============================] - 2s 15ms/step - loss: 0.0584 - accuracy: 0.9842 - val_loss: 0.0882 - val_accuracy: 0.9729\n",
      "Epoch 10/11\n",
      "118/118 [==============================] - 2s 16ms/step - loss: 0.0542 - accuracy: 0.9858 - val_loss: 0.0827 - val_accuracy: 0.9740\n",
      "Epoch 11/11\n",
      "118/118 [==============================] - 2s 16ms/step - loss: 0.0502 - accuracy: 0.9866 - val_loss: 0.0824 - val_accuracy: 0.9742\n"
     ]
    }
   ],
   "source": [
    "from tensorflow.keras.optimizers import SGD\n",
    "\n",
    "sgd = SGD(0.1)\n",
    "epochs = 11\n",
    "mod.compile(loss='categorical_crossentropy',optimizer='adam',metrics=['accuracy'])\n",
    "h = mod.fit(x_train,y_train,validation_data=(x_test,y_test),epochs=epochs,batch_size=512)"
   ]
  },
  {
   "cell_type": "code",
   "execution_count": 15,
   "id": "b183f556",
   "metadata": {},
   "outputs": [
    {
     "name": "stdout",
     "output_type": "stream",
     "text": [
      "313/313 [==============================] - 1s 4ms/step\n"
     ]
    }
   ],
   "source": [
    "y_pred = mod.predict(x_test)"
   ]
  },
  {
   "cell_type": "code",
   "execution_count": 12,
   "id": "4fd574df",
   "metadata": {},
   "outputs": [
    {
     "name": "stdout",
     "output_type": "stream",
     "text": [
      "accuracy:  0.9602\n",
      "confusion matrix: \n",
      " [[ 969    0    1    1    0    3    2    2    2    0]\n",
      " [   0 1117    4    2    0    1    4    2    5    0]\n",
      " [   7    1  983    7    3    1    8    8   12    2]\n",
      " [   0    0    7  978    0    8    0    8    7    2]\n",
      " [   1    0    4    0  942    0    9    3    3   20]\n",
      " [   4    1    0   16    2  846    9    1    9    4]\n",
      " [   9    3    1    0    7    8  924    0    6    0]\n",
      " [   1    8   18    8    2    1    0  970    0   20]\n",
      " [   4    3    5   17    5    6    5    6  921    2]\n",
      " [   3    6    1   11   15    8    1    9    3  952]]\n",
      "classification_report: \n",
      "               precision    recall  f1-score   support\n",
      "\n",
      "           0       0.97      0.99      0.98       980\n",
      "           1       0.98      0.98      0.98      1135\n",
      "           2       0.96      0.95      0.96      1032\n",
      "           3       0.94      0.97      0.95      1010\n",
      "           4       0.97      0.96      0.96       982\n",
      "           5       0.96      0.95      0.95       892\n",
      "           6       0.96      0.96      0.96       958\n",
      "           7       0.96      0.94      0.95      1028\n",
      "           8       0.95      0.95      0.95       974\n",
      "           9       0.95      0.94      0.95      1009\n",
      "\n",
      "    accuracy                           0.96     10000\n",
      "   macro avg       0.96      0.96      0.96     10000\n",
      "weighted avg       0.96      0.96      0.96     10000\n",
      "\n"
     ]
    }
   ],
   "source": [
    "from sklearn.metrics import confusion_matrix, accuracy_score, classification_report\n",
    "\n",
    "print(\"accuracy: \",accuracy_score(y_test.argmax(axis=1), y_pred.argmax(axis=1)))\n",
    "print(\"confusion matrix: \\n\", confusion_matrix(y_test.argmax(axis=1),y_pred.argmax(axis=1)))\n",
    "print(\"classification_report: \\n\", classification_report(y_test.argmax(axis=1),y_pred.argmax(axis=1)))"
   ]
  },
  {
   "cell_type": "code",
   "execution_count": 17,
   "id": "4337c8f5",
   "metadata": {},
   "outputs": [
    {
     "data": {
      "text/plain": [
       "<matplotlib.legend.Legend at 0x1c93292ecd0>"
      ]
     },
     "execution_count": 17,
     "metadata": {},
     "output_type": "execute_result"
    },
    {
     "data": {
      "image/png": "[encoded data removed]",
      "text/plain": [
       "<Figure size 640x480 with 1 Axes>"
      ]
     },
     "metadata": {},
     "output_type": "display_data"
    }
   ],
   "source": [
    "plt.style.use(\"ggplot\")\n",
    "plt.figure()\n",
    "plt.plot(np.arange(0,epochs), h.history['loss'],label=\"train loss\")\n",
    "plt.plot(np.arange(0,epochs), h.history['val_loss'], label=\"val loss\")\n",
    "plt.plot(np.arange(0,epochs), h.history['accuracy'], label=\"train acc\")\n",
    "plt.plot(np.arange(0,epochs), h.history['val_accuracy'], label='val acc')\n",
    "plt.xlabel(\"epochs\")\n",
    "plt.ylabel('loss/acc')\n",
    "plt.legend()"
   ]
  }
 ],
 "metadata": {
  "kernelspec": {
   "display_name": "Python 3 (ipykernel)",
   "language": "python",
   "name": "python3"
  },
  "language_info": {
   "codemirror_mode": {
    "name": "ipython",
    "version": 3
   },
   "file_extension": ".py",
   "mimetype": "text/x-python",
   "name": "python",
   "nbconvert_exporter": "python",
   "pygments_lexer": "ipython3",
   "version": "3.9.13"
  }
 },
 "nbformat": 4,
 "nbformat_minor": 5
}
